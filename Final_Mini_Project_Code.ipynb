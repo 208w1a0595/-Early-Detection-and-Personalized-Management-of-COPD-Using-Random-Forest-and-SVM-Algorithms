{
  "nbformat": 4,
  "nbformat_minor": 0,
  "metadata": {
    "colab": {
      "provenance": []
    },
    "kernelspec": {
      "name": "python3",
      "display_name": "Python 3"
    },
    "language_info": {
      "name": "python"
    }
  },
  "cells": [
    {
      "cell_type": "markdown",
      "source": [
        "\n",
        "**Importing Necessary Modules and Understanding Data**\n"
      ],
      "metadata": {
        "id": "-kJtZlxzcJYE"
      }
    },
    {
      "cell_type": "code",
      "execution_count": 35,
      "metadata": {
        "id": "6Kjoktrj-fID"
      },
      "outputs": [],
      "source": [
        "import pandas as pd\n",
        "import numpy as np"
      ]
    },
    {
      "cell_type": "code",
      "source": [
        "data=pd.read_excel('/content/sample_data/Datset.xlsx')"
      ],
      "metadata": {
        "id": "BCUKw43W_IaR"
      },
      "execution_count": 36,
      "outputs": []
    },
    {
      "cell_type": "code",
      "source": [
        "data.head()"
      ],
      "metadata": {
        "colab": {
          "base_uri": "https://localhost:8080/",
          "height": 299
        },
        "id": "W7JAa3qW_LsO",
        "outputId": "af974f4b-66b9-4d3c-de83-ca38ed3663f6"
      },
      "execution_count": 37,
      "outputs": [
        {
          "output_type": "execute_result",
          "data": {
            "text/plain": [
              "      sid  visit_year visit_date  visit_age  gender   race  height_cm  \\\n",
              "0  10005Q        2008  1/15/2008       54.5  Female  White      159.9   \n",
              "1  10006S        2008  1/15/2008       62.3  Female  White      162.6   \n",
              "2  10010J        2008  1/15/2008       65.9  Female  White      162.1   \n",
              "3  10015T        2008  2/15/2008       59.6    Male  White      182.9   \n",
              "4  10017X        2008  6/15/2008       67.5    Male  White      179.1   \n",
              "\n",
              "   weight_kg  sysBP  diasBP  ...  total_lung_capacity  pct_emphysema  \\\n",
              "0       73.0    130      80  ...               5.6636       0.926851   \n",
              "1       86.0    170      80  ...               5.2325      14.005900   \n",
              "2       62.8     96      63  ...               5.1960       1.683760   \n",
              "3      110.0    142      88  ...               6.3971       9.330450   \n",
              "4       83.0    106      72  ...               7.8935      36.262400   \n",
              "\n",
              "   functional_residual_capacity pct_gastrapping  insp_meanatt exp_meanatt  \\\n",
              "0                        2.4766         6.80077      -830.343    -650.526   \n",
              "1                       -1.0000        -1.00000      -841.880      -1.000   \n",
              "2                        3.8993        41.34930      -833.429    -789.595   \n",
              "3                       -1.0000        -1.00000      -841.315      -1.000   \n",
              "4                        4.1043        46.17690      -887.947    -792.397   \n",
              "\n",
              "  FEV1_FVC_ratio   FEV1    FVC FEV1_phase2  \n",
              "0           0.77  2.921  3.805       2.622  \n",
              "1           0.43  1.288  3.022         NaN  \n",
              "2           0.53  1.008  1.909       1.087  \n",
              "3           0.51  1.906  3.732       2.002  \n",
              "4           0.57  2.748  4.827       2.178  \n",
              "\n",
              "[5 rows x 35 columns]"
            ],
            "text/html": [
              "\n",
              "  <div id=\"df-c4de35ac-f046-4a24-a047-9538e8c8889e\">\n",
              "    <div class=\"colab-df-container\">\n",
              "      <div>\n",
              "<style scoped>\n",
              "    .dataframe tbody tr th:only-of-type {\n",
              "        vertical-align: middle;\n",
              "    }\n",
              "\n",
              "    .dataframe tbody tr th {\n",
              "        vertical-align: top;\n",
              "    }\n",
              "\n",
              "    .dataframe thead th {\n",
              "        text-align: right;\n",
              "    }\n",
              "</style>\n",
              "<table border=\"1\" class=\"dataframe\">\n",
              "  <thead>\n",
              "    <tr style=\"text-align: right;\">\n",
              "      <th></th>\n",
              "      <th>sid</th>\n",
              "      <th>visit_year</th>\n",
              "      <th>visit_date</th>\n",
              "      <th>visit_age</th>\n",
              "      <th>gender</th>\n",
              "      <th>race</th>\n",
              "      <th>height_cm</th>\n",
              "      <th>weight_kg</th>\n",
              "      <th>sysBP</th>\n",
              "      <th>diasBP</th>\n",
              "      <th>...</th>\n",
              "      <th>total_lung_capacity</th>\n",
              "      <th>pct_emphysema</th>\n",
              "      <th>functional_residual_capacity</th>\n",
              "      <th>pct_gastrapping</th>\n",
              "      <th>insp_meanatt</th>\n",
              "      <th>exp_meanatt</th>\n",
              "      <th>FEV1_FVC_ratio</th>\n",
              "      <th>FEV1</th>\n",
              "      <th>FVC</th>\n",
              "      <th>FEV1_phase2</th>\n",
              "    </tr>\n",
              "  </thead>\n",
              "  <tbody>\n",
              "    <tr>\n",
              "      <th>0</th>\n",
              "      <td>10005Q</td>\n",
              "      <td>2008</td>\n",
              "      <td>1/15/2008</td>\n",
              "      <td>54.5</td>\n",
              "      <td>Female</td>\n",
              "      <td>White</td>\n",
              "      <td>159.9</td>\n",
              "      <td>73.0</td>\n",
              "      <td>130</td>\n",
              "      <td>80</td>\n",
              "      <td>...</td>\n",
              "      <td>5.6636</td>\n",
              "      <td>0.926851</td>\n",
              "      <td>2.4766</td>\n",
              "      <td>6.80077</td>\n",
              "      <td>-830.343</td>\n",
              "      <td>-650.526</td>\n",
              "      <td>0.77</td>\n",
              "      <td>2.921</td>\n",
              "      <td>3.805</td>\n",
              "      <td>2.622</td>\n",
              "    </tr>\n",
              "    <tr>\n",
              "      <th>1</th>\n",
              "      <td>10006S</td>\n",
              "      <td>2008</td>\n",
              "      <td>1/15/2008</td>\n",
              "      <td>62.3</td>\n",
              "      <td>Female</td>\n",
              "      <td>White</td>\n",
              "      <td>162.6</td>\n",
              "      <td>86.0</td>\n",
              "      <td>170</td>\n",
              "      <td>80</td>\n",
              "      <td>...</td>\n",
              "      <td>5.2325</td>\n",
              "      <td>14.005900</td>\n",
              "      <td>-1.0000</td>\n",
              "      <td>-1.00000</td>\n",
              "      <td>-841.880</td>\n",
              "      <td>-1.000</td>\n",
              "      <td>0.43</td>\n",
              "      <td>1.288</td>\n",
              "      <td>3.022</td>\n",
              "      <td>NaN</td>\n",
              "    </tr>\n",
              "    <tr>\n",
              "      <th>2</th>\n",
              "      <td>10010J</td>\n",
              "      <td>2008</td>\n",
              "      <td>1/15/2008</td>\n",
              "      <td>65.9</td>\n",
              "      <td>Female</td>\n",
              "      <td>White</td>\n",
              "      <td>162.1</td>\n",
              "      <td>62.8</td>\n",
              "      <td>96</td>\n",
              "      <td>63</td>\n",
              "      <td>...</td>\n",
              "      <td>5.1960</td>\n",
              "      <td>1.683760</td>\n",
              "      <td>3.8993</td>\n",
              "      <td>41.34930</td>\n",
              "      <td>-833.429</td>\n",
              "      <td>-789.595</td>\n",
              "      <td>0.53</td>\n",
              "      <td>1.008</td>\n",
              "      <td>1.909</td>\n",
              "      <td>1.087</td>\n",
              "    </tr>\n",
              "    <tr>\n",
              "      <th>3</th>\n",
              "      <td>10015T</td>\n",
              "      <td>2008</td>\n",
              "      <td>2/15/2008</td>\n",
              "      <td>59.6</td>\n",
              "      <td>Male</td>\n",
              "      <td>White</td>\n",
              "      <td>182.9</td>\n",
              "      <td>110.0</td>\n",
              "      <td>142</td>\n",
              "      <td>88</td>\n",
              "      <td>...</td>\n",
              "      <td>6.3971</td>\n",
              "      <td>9.330450</td>\n",
              "      <td>-1.0000</td>\n",
              "      <td>-1.00000</td>\n",
              "      <td>-841.315</td>\n",
              "      <td>-1.000</td>\n",
              "      <td>0.51</td>\n",
              "      <td>1.906</td>\n",
              "      <td>3.732</td>\n",
              "      <td>2.002</td>\n",
              "    </tr>\n",
              "    <tr>\n",
              "      <th>4</th>\n",
              "      <td>10017X</td>\n",
              "      <td>2008</td>\n",
              "      <td>6/15/2008</td>\n",
              "      <td>67.5</td>\n",
              "      <td>Male</td>\n",
              "      <td>White</td>\n",
              "      <td>179.1</td>\n",
              "      <td>83.0</td>\n",
              "      <td>106</td>\n",
              "      <td>72</td>\n",
              "      <td>...</td>\n",
              "      <td>7.8935</td>\n",
              "      <td>36.262400</td>\n",
              "      <td>4.1043</td>\n",
              "      <td>46.17690</td>\n",
              "      <td>-887.947</td>\n",
              "      <td>-792.397</td>\n",
              "      <td>0.57</td>\n",
              "      <td>2.748</td>\n",
              "      <td>4.827</td>\n",
              "      <td>2.178</td>\n",
              "    </tr>\n",
              "  </tbody>\n",
              "</table>\n",
              "<p>5 rows × 35 columns</p>\n",
              "</div>\n",
              "      <button class=\"colab-df-convert\" onclick=\"convertToInteractive('df-c4de35ac-f046-4a24-a047-9538e8c8889e')\"\n",
              "              title=\"Convert this dataframe to an interactive table.\"\n",
              "              style=\"display:none;\">\n",
              "        \n",
              "  <svg xmlns=\"http://www.w3.org/2000/svg\" height=\"24px\"viewBox=\"0 0 24 24\"\n",
              "       width=\"24px\">\n",
              "    <path d=\"M0 0h24v24H0V0z\" fill=\"none\"/>\n",
              "    <path d=\"M18.56 5.44l.94 2.06.94-2.06 2.06-.94-2.06-.94-.94-2.06-.94 2.06-2.06.94zm-11 1L8.5 8.5l.94-2.06 2.06-.94-2.06-.94L8.5 2.5l-.94 2.06-2.06.94zm10 10l.94 2.06.94-2.06 2.06-.94-2.06-.94-.94-2.06-.94 2.06-2.06.94z\"/><path d=\"M17.41 7.96l-1.37-1.37c-.4-.4-.92-.59-1.43-.59-.52 0-1.04.2-1.43.59L10.3 9.45l-7.72 7.72c-.78.78-.78 2.05 0 2.83L4 21.41c.39.39.9.59 1.41.59.51 0 1.02-.2 1.41-.59l7.78-7.78 2.81-2.81c.8-.78.8-2.07 0-2.86zM5.41 20L4 18.59l7.72-7.72 1.47 1.35L5.41 20z\"/>\n",
              "  </svg>\n",
              "      </button>\n",
              "      \n",
              "  <style>\n",
              "    .colab-df-container {\n",
              "      display:flex;\n",
              "      flex-wrap:wrap;\n",
              "      gap: 12px;\n",
              "    }\n",
              "\n",
              "    .colab-df-convert {\n",
              "      background-color: #E8F0FE;\n",
              "      border: none;\n",
              "      border-radius: 50%;\n",
              "      cursor: pointer;\n",
              "      display: none;\n",
              "      fill: #1967D2;\n",
              "      height: 32px;\n",
              "      padding: 0 0 0 0;\n",
              "      width: 32px;\n",
              "    }\n",
              "\n",
              "    .colab-df-convert:hover {\n",
              "      background-color: #E2EBFA;\n",
              "      box-shadow: 0px 1px 2px rgba(60, 64, 67, 0.3), 0px 1px 3px 1px rgba(60, 64, 67, 0.15);\n",
              "      fill: #174EA6;\n",
              "    }\n",
              "\n",
              "    [theme=dark] .colab-df-convert {\n",
              "      background-color: #3B4455;\n",
              "      fill: #D2E3FC;\n",
              "    }\n",
              "\n",
              "    [theme=dark] .colab-df-convert:hover {\n",
              "      background-color: #434B5C;\n",
              "      box-shadow: 0px 1px 3px 1px rgba(0, 0, 0, 0.15);\n",
              "      filter: drop-shadow(0px 1px 2px rgba(0, 0, 0, 0.3));\n",
              "      fill: #FFFFFF;\n",
              "    }\n",
              "  </style>\n",
              "\n",
              "      <script>\n",
              "        const buttonEl =\n",
              "          document.querySelector('#df-c4de35ac-f046-4a24-a047-9538e8c8889e button.colab-df-convert');\n",
              "        buttonEl.style.display =\n",
              "          google.colab.kernel.accessAllowed ? 'block' : 'none';\n",
              "\n",
              "        async function convertToInteractive(key) {\n",
              "          const element = document.querySelector('#df-c4de35ac-f046-4a24-a047-9538e8c8889e');\n",
              "          const dataTable =\n",
              "            await google.colab.kernel.invokeFunction('convertToInteractive',\n",
              "                                                     [key], {});\n",
              "          if (!dataTable) return;\n",
              "\n",
              "          const docLinkHtml = 'Like what you see? Visit the ' +\n",
              "            '<a target=\"_blank\" href=https://colab.research.google.com/notebooks/data_table.ipynb>data table notebook</a>'\n",
              "            + ' to learn more about interactive tables.';\n",
              "          element.innerHTML = '';\n",
              "          dataTable['output_type'] = 'display_data';\n",
              "          await google.colab.output.renderOutput(dataTable, element);\n",
              "          const docLink = document.createElement('div');\n",
              "          docLink.innerHTML = docLinkHtml;\n",
              "          element.appendChild(docLink);\n",
              "        }\n",
              "      </script>\n",
              "    </div>\n",
              "  </div>\n",
              "  "
            ]
          },
          "metadata": {},
          "execution_count": 37
        }
      ]
    },
    {
      "cell_type": "code",
      "source": [
        "data.shape"
      ],
      "metadata": {
        "colab": {
          "base_uri": "https://localhost:8080/"
        },
        "id": "hRUyFByj_P_x",
        "outputId": "e5a42f88-983c-412f-81f1-f2ed5c5e5b3b"
      },
      "execution_count": 38,
      "outputs": [
        {
          "output_type": "execute_result",
          "data": {
            "text/plain": [
              "(5747, 35)"
            ]
          },
          "metadata": {},
          "execution_count": 38
        }
      ]
    },
    {
      "cell_type": "markdown",
      "source": [
        "**Dropping Unecessary Columns in the data which don't affect the model Performance**"
      ],
      "metadata": {
        "id": "b-STt-5O2IrL"
      }
    },
    {
      "cell_type": "code",
      "source": [
        "data.drop(columns=['sid', 'visit_year', 'visit_date'], inplace=True)"
      ],
      "metadata": {
        "id": "1mZH902a_Vvx"
      },
      "execution_count": 39,
      "outputs": []
    },
    {
      "cell_type": "code",
      "source": [
        "data.head()"
      ],
      "metadata": {
        "colab": {
          "base_uri": "https://localhost:8080/",
          "height": 299
        },
        "id": "Lwws55VF_XMU",
        "outputId": "738231ad-edee-43cf-cc75-ef4f85773fbf"
      },
      "execution_count": 40,
      "outputs": [
        {
          "output_type": "execute_result",
          "data": {
            "text/plain": [
              "   visit_age  gender   race  height_cm  weight_kg  sysBP  diasBP  hr  \\\n",
              "0       54.5  Female  White      159.9       73.0    130      80  87   \n",
              "1       62.3  Female  White      162.6       86.0    170      80  81   \n",
              "2       65.9  Female  White      162.1       62.8     96      63  66   \n",
              "3       59.6    Male  White      182.9      110.0    142      88  75   \n",
              "4       67.5    Male  White      179.1       83.0    106      72  72   \n",
              "\n",
              "   O2_hours_day    bmi  ... total_lung_capacity  pct_emphysema  \\\n",
              "0             0  28.55  ...              5.6636       0.926851   \n",
              "1             8  32.53  ...              5.2325      14.005900   \n",
              "2             0  23.90  ...              5.1960       1.683760   \n",
              "3             0  32.88  ...              6.3971       9.330450   \n",
              "4            10  25.88  ...              7.8935      36.262400   \n",
              "\n",
              "  functional_residual_capacity pct_gastrapping insp_meanatt exp_meanatt  \\\n",
              "0                       2.4766         6.80077     -830.343    -650.526   \n",
              "1                      -1.0000        -1.00000     -841.880      -1.000   \n",
              "2                       3.8993        41.34930     -833.429    -789.595   \n",
              "3                      -1.0000        -1.00000     -841.315      -1.000   \n",
              "4                       4.1043        46.17690     -887.947    -792.397   \n",
              "\n",
              "  FEV1_FVC_ratio   FEV1    FVC  FEV1_phase2  \n",
              "0           0.77  2.921  3.805        2.622  \n",
              "1           0.43  1.288  3.022          NaN  \n",
              "2           0.53  1.008  1.909        1.087  \n",
              "3           0.51  1.906  3.732        2.002  \n",
              "4           0.57  2.748  4.827        2.178  \n",
              "\n",
              "[5 rows x 32 columns]"
            ],
            "text/html": [
              "\n",
              "  <div id=\"df-03d84838-f0e6-418f-aecf-97fbeec73c7d\">\n",
              "    <div class=\"colab-df-container\">\n",
              "      <div>\n",
              "<style scoped>\n",
              "    .dataframe tbody tr th:only-of-type {\n",
              "        vertical-align: middle;\n",
              "    }\n",
              "\n",
              "    .dataframe tbody tr th {\n",
              "        vertical-align: top;\n",
              "    }\n",
              "\n",
              "    .dataframe thead th {\n",
              "        text-align: right;\n",
              "    }\n",
              "</style>\n",
              "<table border=\"1\" class=\"dataframe\">\n",
              "  <thead>\n",
              "    <tr style=\"text-align: right;\">\n",
              "      <th></th>\n",
              "      <th>visit_age</th>\n",
              "      <th>gender</th>\n",
              "      <th>race</th>\n",
              "      <th>height_cm</th>\n",
              "      <th>weight_kg</th>\n",
              "      <th>sysBP</th>\n",
              "      <th>diasBP</th>\n",
              "      <th>hr</th>\n",
              "      <th>O2_hours_day</th>\n",
              "      <th>bmi</th>\n",
              "      <th>...</th>\n",
              "      <th>total_lung_capacity</th>\n",
              "      <th>pct_emphysema</th>\n",
              "      <th>functional_residual_capacity</th>\n",
              "      <th>pct_gastrapping</th>\n",
              "      <th>insp_meanatt</th>\n",
              "      <th>exp_meanatt</th>\n",
              "      <th>FEV1_FVC_ratio</th>\n",
              "      <th>FEV1</th>\n",
              "      <th>FVC</th>\n",
              "      <th>FEV1_phase2</th>\n",
              "    </tr>\n",
              "  </thead>\n",
              "  <tbody>\n",
              "    <tr>\n",
              "      <th>0</th>\n",
              "      <td>54.5</td>\n",
              "      <td>Female</td>\n",
              "      <td>White</td>\n",
              "      <td>159.9</td>\n",
              "      <td>73.0</td>\n",
              "      <td>130</td>\n",
              "      <td>80</td>\n",
              "      <td>87</td>\n",
              "      <td>0</td>\n",
              "      <td>28.55</td>\n",
              "      <td>...</td>\n",
              "      <td>5.6636</td>\n",
              "      <td>0.926851</td>\n",
              "      <td>2.4766</td>\n",
              "      <td>6.80077</td>\n",
              "      <td>-830.343</td>\n",
              "      <td>-650.526</td>\n",
              "      <td>0.77</td>\n",
              "      <td>2.921</td>\n",
              "      <td>3.805</td>\n",
              "      <td>2.622</td>\n",
              "    </tr>\n",
              "    <tr>\n",
              "      <th>1</th>\n",
              "      <td>62.3</td>\n",
              "      <td>Female</td>\n",
              "      <td>White</td>\n",
              "      <td>162.6</td>\n",
              "      <td>86.0</td>\n",
              "      <td>170</td>\n",
              "      <td>80</td>\n",
              "      <td>81</td>\n",
              "      <td>8</td>\n",
              "      <td>32.53</td>\n",
              "      <td>...</td>\n",
              "      <td>5.2325</td>\n",
              "      <td>14.005900</td>\n",
              "      <td>-1.0000</td>\n",
              "      <td>-1.00000</td>\n",
              "      <td>-841.880</td>\n",
              "      <td>-1.000</td>\n",
              "      <td>0.43</td>\n",
              "      <td>1.288</td>\n",
              "      <td>3.022</td>\n",
              "      <td>NaN</td>\n",
              "    </tr>\n",
              "    <tr>\n",
              "      <th>2</th>\n",
              "      <td>65.9</td>\n",
              "      <td>Female</td>\n",
              "      <td>White</td>\n",
              "      <td>162.1</td>\n",
              "      <td>62.8</td>\n",
              "      <td>96</td>\n",
              "      <td>63</td>\n",
              "      <td>66</td>\n",
              "      <td>0</td>\n",
              "      <td>23.90</td>\n",
              "      <td>...</td>\n",
              "      <td>5.1960</td>\n",
              "      <td>1.683760</td>\n",
              "      <td>3.8993</td>\n",
              "      <td>41.34930</td>\n",
              "      <td>-833.429</td>\n",
              "      <td>-789.595</td>\n",
              "      <td>0.53</td>\n",
              "      <td>1.008</td>\n",
              "      <td>1.909</td>\n",
              "      <td>1.087</td>\n",
              "    </tr>\n",
              "    <tr>\n",
              "      <th>3</th>\n",
              "      <td>59.6</td>\n",
              "      <td>Male</td>\n",
              "      <td>White</td>\n",
              "      <td>182.9</td>\n",
              "      <td>110.0</td>\n",
              "      <td>142</td>\n",
              "      <td>88</td>\n",
              "      <td>75</td>\n",
              "      <td>0</td>\n",
              "      <td>32.88</td>\n",
              "      <td>...</td>\n",
              "      <td>6.3971</td>\n",
              "      <td>9.330450</td>\n",
              "      <td>-1.0000</td>\n",
              "      <td>-1.00000</td>\n",
              "      <td>-841.315</td>\n",
              "      <td>-1.000</td>\n",
              "      <td>0.51</td>\n",
              "      <td>1.906</td>\n",
              "      <td>3.732</td>\n",
              "      <td>2.002</td>\n",
              "    </tr>\n",
              "    <tr>\n",
              "      <th>4</th>\n",
              "      <td>67.5</td>\n",
              "      <td>Male</td>\n",
              "      <td>White</td>\n",
              "      <td>179.1</td>\n",
              "      <td>83.0</td>\n",
              "      <td>106</td>\n",
              "      <td>72</td>\n",
              "      <td>72</td>\n",
              "      <td>10</td>\n",
              "      <td>25.88</td>\n",
              "      <td>...</td>\n",
              "      <td>7.8935</td>\n",
              "      <td>36.262400</td>\n",
              "      <td>4.1043</td>\n",
              "      <td>46.17690</td>\n",
              "      <td>-887.947</td>\n",
              "      <td>-792.397</td>\n",
              "      <td>0.57</td>\n",
              "      <td>2.748</td>\n",
              "      <td>4.827</td>\n",
              "      <td>2.178</td>\n",
              "    </tr>\n",
              "  </tbody>\n",
              "</table>\n",
              "<p>5 rows × 32 columns</p>\n",
              "</div>\n",
              "      <button class=\"colab-df-convert\" onclick=\"convertToInteractive('df-03d84838-f0e6-418f-aecf-97fbeec73c7d')\"\n",
              "              title=\"Convert this dataframe to an interactive table.\"\n",
              "              style=\"display:none;\">\n",
              "        \n",
              "  <svg xmlns=\"http://www.w3.org/2000/svg\" height=\"24px\"viewBox=\"0 0 24 24\"\n",
              "       width=\"24px\">\n",
              "    <path d=\"M0 0h24v24H0V0z\" fill=\"none\"/>\n",
              "    <path d=\"M18.56 5.44l.94 2.06.94-2.06 2.06-.94-2.06-.94-.94-2.06-.94 2.06-2.06.94zm-11 1L8.5 8.5l.94-2.06 2.06-.94-2.06-.94L8.5 2.5l-.94 2.06-2.06.94zm10 10l.94 2.06.94-2.06 2.06-.94-2.06-.94-.94-2.06-.94 2.06-2.06.94z\"/><path d=\"M17.41 7.96l-1.37-1.37c-.4-.4-.92-.59-1.43-.59-.52 0-1.04.2-1.43.59L10.3 9.45l-7.72 7.72c-.78.78-.78 2.05 0 2.83L4 21.41c.39.39.9.59 1.41.59.51 0 1.02-.2 1.41-.59l7.78-7.78 2.81-2.81c.8-.78.8-2.07 0-2.86zM5.41 20L4 18.59l7.72-7.72 1.47 1.35L5.41 20z\"/>\n",
              "  </svg>\n",
              "      </button>\n",
              "      \n",
              "  <style>\n",
              "    .colab-df-container {\n",
              "      display:flex;\n",
              "      flex-wrap:wrap;\n",
              "      gap: 12px;\n",
              "    }\n",
              "\n",
              "    .colab-df-convert {\n",
              "      background-color: #E8F0FE;\n",
              "      border: none;\n",
              "      border-radius: 50%;\n",
              "      cursor: pointer;\n",
              "      display: none;\n",
              "      fill: #1967D2;\n",
              "      height: 32px;\n",
              "      padding: 0 0 0 0;\n",
              "      width: 32px;\n",
              "    }\n",
              "\n",
              "    .colab-df-convert:hover {\n",
              "      background-color: #E2EBFA;\n",
              "      box-shadow: 0px 1px 2px rgba(60, 64, 67, 0.3), 0px 1px 3px 1px rgba(60, 64, 67, 0.15);\n",
              "      fill: #174EA6;\n",
              "    }\n",
              "\n",
              "    [theme=dark] .colab-df-convert {\n",
              "      background-color: #3B4455;\n",
              "      fill: #D2E3FC;\n",
              "    }\n",
              "\n",
              "    [theme=dark] .colab-df-convert:hover {\n",
              "      background-color: #434B5C;\n",
              "      box-shadow: 0px 1px 3px 1px rgba(0, 0, 0, 0.15);\n",
              "      filter: drop-shadow(0px 1px 2px rgba(0, 0, 0, 0.3));\n",
              "      fill: #FFFFFF;\n",
              "    }\n",
              "  </style>\n",
              "\n",
              "      <script>\n",
              "        const buttonEl =\n",
              "          document.querySelector('#df-03d84838-f0e6-418f-aecf-97fbeec73c7d button.colab-df-convert');\n",
              "        buttonEl.style.display =\n",
              "          google.colab.kernel.accessAllowed ? 'block' : 'none';\n",
              "\n",
              "        async function convertToInteractive(key) {\n",
              "          const element = document.querySelector('#df-03d84838-f0e6-418f-aecf-97fbeec73c7d');\n",
              "          const dataTable =\n",
              "            await google.colab.kernel.invokeFunction('convertToInteractive',\n",
              "                                                     [key], {});\n",
              "          if (!dataTable) return;\n",
              "\n",
              "          const docLinkHtml = 'Like what you see? Visit the ' +\n",
              "            '<a target=\"_blank\" href=https://colab.research.google.com/notebooks/data_table.ipynb>data table notebook</a>'\n",
              "            + ' to learn more about interactive tables.';\n",
              "          element.innerHTML = '';\n",
              "          dataTable['output_type'] = 'display_data';\n",
              "          await google.colab.output.renderOutput(dataTable, element);\n",
              "          const docLink = document.createElement('div');\n",
              "          docLink.innerHTML = docLinkHtml;\n",
              "          element.appendChild(docLink);\n",
              "        }\n",
              "      </script>\n",
              "    </div>\n",
              "  </div>\n",
              "  "
            ]
          },
          "metadata": {},
          "execution_count": 40
        }
      ]
    },
    {
      "cell_type": "markdown",
      "source": [
        "**Knowing the Categorical attributes and their value counts of labels**"
      ],
      "metadata": {
        "id": "0XplRYiI2eal"
      }
    },
    {
      "cell_type": "code",
      "source": [
        "categorical = list(data.select_dtypes(include=['object']).columns.values)\n",
        "for cat in categorical:\n",
        "  print(data[cat].value_counts())"
      ],
      "metadata": {
        "colab": {
          "base_uri": "https://localhost:8080/"
        },
        "id": "eObzzCuo_fR4",
        "outputId": "0b0067a7-54e0-4a3c-b0ad-47e993d9d980"
      },
      "execution_count": 41,
      "outputs": [
        {
          "output_type": "stream",
          "name": "stdout",
          "text": [
            "Male      2885\n",
            "Female    2862\n",
            "Name: gender, dtype: int64\n",
            "White                        4010\n",
            "Black or African American    1737\n",
            "Name: race, dtype: int64\n",
            "No         4327\n",
            "Yes        1040\n",
            "unknown     380\n",
            "Name: asthma, dtype: int64\n",
            "No         2845\n",
            "Yes        2417\n",
            "unknown     485\n",
            "Name: bronchitis_attack, dtype: int64\n",
            "No         3394\n",
            "Yes        2070\n",
            "unknown     283\n",
            "Name: pneumonia, dtype: int64\n",
            "No         4422\n",
            "Yes         875\n",
            "unknown     450\n",
            "Name: chronic_bronchitis, dtype: int64\n",
            "No         4260\n",
            "Yes        1077\n",
            "unknown     410\n",
            "Name: emphysema, dtype: int64\n",
            "No         3775\n",
            "Yes        1572\n",
            "unknown     400\n",
            "Name: copd, dtype: int64\n",
            "No         4253\n",
            "Yes         892\n",
            "unknown     601\n",
            "missing       1\n",
            "Name: sleep_apnea, dtype: int64\n",
            "Former smoker     2912\n",
            "Current smoker    2759\n",
            "Never smoked        76\n",
            "Name: smoking_status, dtype: int64\n"
          ]
        }
      ]
    },
    {
      "cell_type": "markdown",
      "source": [
        "**Dropping the 7 columns to make data easily split in to Bins**"
      ],
      "metadata": {
        "id": "mFJ8njkH2mZO"
      }
    },
    {
      "cell_type": "code",
      "source": [
        "data=data.drop(data.tail(7).index)"
      ],
      "metadata": {
        "id": "g6DhbvPs_oPt"
      },
      "execution_count": 42,
      "outputs": []
    },
    {
      "cell_type": "markdown",
      "source": [
        "**Binning**"
      ],
      "metadata": {
        "id": "FPhounNt2yd5"
      }
    },
    {
      "cell_type": "code",
      "source": [
        "def replace_with_mode(bin_data):\n",
        "  counts=bin_data.value_counts()\n",
        "  if counts.get(1,0) > counts.get(0,0):\n",
        "    return bin_data.replace(2,1)\n",
        "  else:\n",
        "    return bin_data.replace(2,0)"
      ],
      "metadata": {
        "id": "p40ts720_uqX"
      },
      "execution_count": 43,
      "outputs": []
    },
    {
      "cell_type": "markdown",
      "source": [
        "**Label Encoding of Categorical attributes and replacing the unknown values with mode value in the binning**"
      ],
      "metadata": {
        "id": "sTNsxo0823MJ"
      }
    },
    {
      "cell_type": "code",
      "source": [
        "num_bins=82\n",
        "bin_size=int(np.ceil(len(data)/num_bins))\n",
        "\n",
        "from sklearn.preprocessing import LabelEncoder\n",
        "le = LabelEncoder()\n",
        "\n",
        "categorical = list(data.select_dtypes(include=['object']).columns.values)\n",
        "for cat in categorical:\n",
        "  data[cat] = le.fit_transform(data[cat])\n",
        "  if cat!='smoking_status':\n",
        "    data[cat]=data.groupby(np.arange(len(data))//bin_size)[cat].apply(replace_with_mode)\n",
        "    print(data[cat].value_counts())"
      ],
      "metadata": {
        "colab": {
          "base_uri": "https://localhost:8080/"
        },
        "id": "NX5wELS9_0IC",
        "outputId": "88e4d805-2217-41ed-d468-ff26863db5d4"
      },
      "execution_count": 44,
      "outputs": [
        {
          "output_type": "stream",
          "name": "stderr",
          "text": [
            "<ipython-input-44-909cce0b99ea>:11: FutureWarning: Not prepending group keys to the result index of transform-like apply. In the future, the group keys will be included in the index, regardless of whether the applied function returns a like-indexed object.\n",
            "To preserve the previous behavior, use\n",
            "\n",
            "\t>>> .groupby(..., group_keys=False)\n",
            "\n",
            "To adopt the future behavior and silence this warning, use \n",
            "\n",
            "\t>>> .groupby(..., group_keys=True)\n",
            "  data[cat]=data.groupby(np.arange(len(data))//bin_size)[cat].apply(replace_with_mode)\n",
            "<ipython-input-44-909cce0b99ea>:11: FutureWarning: Not prepending group keys to the result index of transform-like apply. In the future, the group keys will be included in the index, regardless of whether the applied function returns a like-indexed object.\n",
            "To preserve the previous behavior, use\n",
            "\n",
            "\t>>> .groupby(..., group_keys=False)\n",
            "\n",
            "To adopt the future behavior and silence this warning, use \n",
            "\n",
            "\t>>> .groupby(..., group_keys=True)\n",
            "  data[cat]=data.groupby(np.arange(len(data))//bin_size)[cat].apply(replace_with_mode)\n",
            "<ipython-input-44-909cce0b99ea>:11: FutureWarning: Not prepending group keys to the result index of transform-like apply. In the future, the group keys will be included in the index, regardless of whether the applied function returns a like-indexed object.\n",
            "To preserve the previous behavior, use\n",
            "\n",
            "\t>>> .groupby(..., group_keys=False)\n",
            "\n",
            "To adopt the future behavior and silence this warning, use \n",
            "\n",
            "\t>>> .groupby(..., group_keys=True)\n",
            "  data[cat]=data.groupby(np.arange(len(data))//bin_size)[cat].apply(replace_with_mode)\n"
          ]
        },
        {
          "output_type": "stream",
          "name": "stdout",
          "text": [
            "1    2880\n",
            "0    2860\n",
            "Name: gender, dtype: int64\n",
            "1    4010\n",
            "0    1730\n",
            "Name: race, dtype: int64\n",
            "0    4703\n",
            "1    1037\n",
            "Name: asthma, dtype: int64\n"
          ]
        },
        {
          "output_type": "stream",
          "name": "stderr",
          "text": [
            "<ipython-input-44-909cce0b99ea>:11: FutureWarning: Not prepending group keys to the result index of transform-like apply. In the future, the group keys will be included in the index, regardless of whether the applied function returns a like-indexed object.\n",
            "To preserve the previous behavior, use\n",
            "\n",
            "\t>>> .groupby(..., group_keys=False)\n",
            "\n",
            "To adopt the future behavior and silence this warning, use \n",
            "\n",
            "\t>>> .groupby(..., group_keys=True)\n",
            "  data[cat]=data.groupby(np.arange(len(data))//bin_size)[cat].apply(replace_with_mode)\n",
            "<ipython-input-44-909cce0b99ea>:11: FutureWarning: Not prepending group keys to the result index of transform-like apply. In the future, the group keys will be included in the index, regardless of whether the applied function returns a like-indexed object.\n",
            "To preserve the previous behavior, use\n",
            "\n",
            "\t>>> .groupby(..., group_keys=False)\n",
            "\n",
            "To adopt the future behavior and silence this warning, use \n",
            "\n",
            "\t>>> .groupby(..., group_keys=True)\n",
            "  data[cat]=data.groupby(np.arange(len(data))//bin_size)[cat].apply(replace_with_mode)\n",
            "<ipython-input-44-909cce0b99ea>:11: FutureWarning: Not prepending group keys to the result index of transform-like apply. In the future, the group keys will be included in the index, regardless of whether the applied function returns a like-indexed object.\n",
            "To preserve the previous behavior, use\n",
            "\n",
            "\t>>> .groupby(..., group_keys=False)\n",
            "\n",
            "To adopt the future behavior and silence this warning, use \n",
            "\n",
            "\t>>> .groupby(..., group_keys=True)\n",
            "  data[cat]=data.groupby(np.arange(len(data))//bin_size)[cat].apply(replace_with_mode)\n",
            "<ipython-input-44-909cce0b99ea>:11: FutureWarning: Not prepending group keys to the result index of transform-like apply. In the future, the group keys will be included in the index, regardless of whether the applied function returns a like-indexed object.\n",
            "To preserve the previous behavior, use\n",
            "\n",
            "\t>>> .groupby(..., group_keys=False)\n",
            "\n",
            "To adopt the future behavior and silence this warning, use \n",
            "\n",
            "\t>>> .groupby(..., group_keys=True)\n",
            "  data[cat]=data.groupby(np.arange(len(data))//bin_size)[cat].apply(replace_with_mode)\n"
          ]
        },
        {
          "output_type": "stream",
          "name": "stdout",
          "text": [
            "0    3141\n",
            "1    2599\n",
            "Name: bronchitis_attack, dtype: int64\n",
            "0    3667\n",
            "1    2073\n",
            "Name: pneumonia, dtype: int64\n",
            "0    4866\n",
            "1     874\n",
            "Name: chronic_bronchitis, dtype: int64\n",
            "0    4663\n",
            "1    1077\n",
            "Name: emphysema, dtype: int64\n",
            "0    4159\n",
            "1    1581\n",
            "Name: copd, dtype: int64\n",
            "0    4249\n",
            "1     891\n",
            "3     600\n",
            "Name: sleep_apnea, dtype: int64\n"
          ]
        },
        {
          "output_type": "stream",
          "name": "stderr",
          "text": [
            "<ipython-input-44-909cce0b99ea>:11: FutureWarning: Not prepending group keys to the result index of transform-like apply. In the future, the group keys will be included in the index, regardless of whether the applied function returns a like-indexed object.\n",
            "To preserve the previous behavior, use\n",
            "\n",
            "\t>>> .groupby(..., group_keys=False)\n",
            "\n",
            "To adopt the future behavior and silence this warning, use \n",
            "\n",
            "\t>>> .groupby(..., group_keys=True)\n",
            "  data[cat]=data.groupby(np.arange(len(data))//bin_size)[cat].apply(replace_with_mode)\n",
            "<ipython-input-44-909cce0b99ea>:11: FutureWarning: Not prepending group keys to the result index of transform-like apply. In the future, the group keys will be included in the index, regardless of whether the applied function returns a like-indexed object.\n",
            "To preserve the previous behavior, use\n",
            "\n",
            "\t>>> .groupby(..., group_keys=False)\n",
            "\n",
            "To adopt the future behavior and silence this warning, use \n",
            "\n",
            "\t>>> .groupby(..., group_keys=True)\n",
            "  data[cat]=data.groupby(np.arange(len(data))//bin_size)[cat].apply(replace_with_mode)\n"
          ]
        }
      ]
    },
    {
      "cell_type": "markdown",
      "source": [
        "**Finding the top features using Recursive Feature Elimination and replacing the Null values with Simple Imputer Function**"
      ],
      "metadata": {
        "id": "EMLw0zqF3McB"
      }
    },
    {
      "cell_type": "code",
      "source": [
        "from sklearn.impute import SimpleImputer\n",
        "from sklearn.linear_model import LogisticRegression\n",
        "from sklearn.feature_selection import RFE\n",
        "# Defining the target variable and the predictor variables\n",
        "target = 'copd'\n",
        "predictors = [col for col in data.columns if col != target]\n",
        "\n",
        "num_predictors = data.select_dtypes(include=[np.number]).columns.tolist()\n",
        "# Impute missing values with the mean for numerical variables and the mode for categorical variables\n",
        "num_imputer = SimpleImputer(strategy='mean')\n",
        "\n",
        "data[num_predictors] = num_imputer.fit_transform(data[num_predictors])\n",
        "\n",
        "\n",
        "# Initializing the logistic regression model\n",
        "model = LogisticRegression()\n",
        "\n",
        "# Initializing the RFE object with a target of 1 feature to eliminate\n",
        "rfe = RFE(model, n_features_to_select=10)\n",
        "\n",
        "# Fitting the RFE model to the data\n",
        "rfe.fit(data[predictors], data[target])\n",
        "\n",
        "# Print the ranking of each feature\n",
        "for i in range(len(predictors)):\n",
        "    print('Feature %d: %s, Rank: %d' % (i+1, predictors[i], rfe.ranking_[i]))\n"
      ],
      "metadata": {
        "colab": {
          "base_uri": "https://localhost:8080/"
        },
        "id": "mbVpoxD_AZUp",
        "outputId": "d9993e72-3211-41d0-a45f-bbdd39a36ad6"
      },
      "execution_count": 45,
      "outputs": [
        {
          "output_type": "stream",
          "name": "stderr",
          "text": [
            "/usr/local/lib/python3.10/dist-packages/sklearn/linear_model/_logistic.py:458: ConvergenceWarning: lbfgs failed to converge (status=1):\n",
            "STOP: TOTAL NO. of ITERATIONS REACHED LIMIT.\n",
            "\n",
            "Increase the number of iterations (max_iter) or scale the data as shown in:\n",
            "    https://scikit-learn.org/stable/modules/preprocessing.html\n",
            "Please also refer to the documentation for alternative solver options:\n",
            "    https://scikit-learn.org/stable/modules/linear_model.html#logistic-regression\n",
            "  n_iter_i = _check_optimize_result(\n",
            "/usr/local/lib/python3.10/dist-packages/sklearn/linear_model/_logistic.py:458: ConvergenceWarning: lbfgs failed to converge (status=1):\n",
            "STOP: TOTAL NO. of ITERATIONS REACHED LIMIT.\n",
            "\n",
            "Increase the number of iterations (max_iter) or scale the data as shown in:\n",
            "    https://scikit-learn.org/stable/modules/preprocessing.html\n",
            "Please also refer to the documentation for alternative solver options:\n",
            "    https://scikit-learn.org/stable/modules/linear_model.html#logistic-regression\n",
            "  n_iter_i = _check_optimize_result(\n",
            "/usr/local/lib/python3.10/dist-packages/sklearn/linear_model/_logistic.py:458: ConvergenceWarning: lbfgs failed to converge (status=1):\n",
            "STOP: TOTAL NO. of ITERATIONS REACHED LIMIT.\n",
            "\n",
            "Increase the number of iterations (max_iter) or scale the data as shown in:\n",
            "    https://scikit-learn.org/stable/modules/preprocessing.html\n",
            "Please also refer to the documentation for alternative solver options:\n",
            "    https://scikit-learn.org/stable/modules/linear_model.html#logistic-regression\n",
            "  n_iter_i = _check_optimize_result(\n",
            "/usr/local/lib/python3.10/dist-packages/sklearn/linear_model/_logistic.py:458: ConvergenceWarning: lbfgs failed to converge (status=1):\n",
            "STOP: TOTAL NO. of ITERATIONS REACHED LIMIT.\n",
            "\n",
            "Increase the number of iterations (max_iter) or scale the data as shown in:\n",
            "    https://scikit-learn.org/stable/modules/preprocessing.html\n",
            "Please also refer to the documentation for alternative solver options:\n",
            "    https://scikit-learn.org/stable/modules/linear_model.html#logistic-regression\n",
            "  n_iter_i = _check_optimize_result(\n",
            "/usr/local/lib/python3.10/dist-packages/sklearn/linear_model/_logistic.py:458: ConvergenceWarning: lbfgs failed to converge (status=1):\n",
            "STOP: TOTAL NO. of ITERATIONS REACHED LIMIT.\n",
            "\n",
            "Increase the number of iterations (max_iter) or scale the data as shown in:\n",
            "    https://scikit-learn.org/stable/modules/preprocessing.html\n",
            "Please also refer to the documentation for alternative solver options:\n",
            "    https://scikit-learn.org/stable/modules/linear_model.html#logistic-regression\n",
            "  n_iter_i = _check_optimize_result(\n",
            "/usr/local/lib/python3.10/dist-packages/sklearn/linear_model/_logistic.py:458: ConvergenceWarning: lbfgs failed to converge (status=1):\n",
            "STOP: TOTAL NO. of ITERATIONS REACHED LIMIT.\n",
            "\n",
            "Increase the number of iterations (max_iter) or scale the data as shown in:\n",
            "    https://scikit-learn.org/stable/modules/preprocessing.html\n",
            "Please also refer to the documentation for alternative solver options:\n",
            "    https://scikit-learn.org/stable/modules/linear_model.html#logistic-regression\n",
            "  n_iter_i = _check_optimize_result(\n",
            "/usr/local/lib/python3.10/dist-packages/sklearn/linear_model/_logistic.py:458: ConvergenceWarning: lbfgs failed to converge (status=1):\n",
            "STOP: TOTAL NO. of ITERATIONS REACHED LIMIT.\n",
            "\n",
            "Increase the number of iterations (max_iter) or scale the data as shown in:\n",
            "    https://scikit-learn.org/stable/modules/preprocessing.html\n",
            "Please also refer to the documentation for alternative solver options:\n",
            "    https://scikit-learn.org/stable/modules/linear_model.html#logistic-regression\n",
            "  n_iter_i = _check_optimize_result(\n",
            "/usr/local/lib/python3.10/dist-packages/sklearn/linear_model/_logistic.py:458: ConvergenceWarning: lbfgs failed to converge (status=1):\n",
            "STOP: TOTAL NO. of ITERATIONS REACHED LIMIT.\n",
            "\n",
            "Increase the number of iterations (max_iter) or scale the data as shown in:\n",
            "    https://scikit-learn.org/stable/modules/preprocessing.html\n",
            "Please also refer to the documentation for alternative solver options:\n",
            "    https://scikit-learn.org/stable/modules/linear_model.html#logistic-regression\n",
            "  n_iter_i = _check_optimize_result(\n",
            "/usr/local/lib/python3.10/dist-packages/sklearn/linear_model/_logistic.py:458: ConvergenceWarning: lbfgs failed to converge (status=1):\n",
            "STOP: TOTAL NO. of ITERATIONS REACHED LIMIT.\n",
            "\n",
            "Increase the number of iterations (max_iter) or scale the data as shown in:\n",
            "    https://scikit-learn.org/stable/modules/preprocessing.html\n",
            "Please also refer to the documentation for alternative solver options:\n",
            "    https://scikit-learn.org/stable/modules/linear_model.html#logistic-regression\n",
            "  n_iter_i = _check_optimize_result(\n",
            "/usr/local/lib/python3.10/dist-packages/sklearn/linear_model/_logistic.py:458: ConvergenceWarning: lbfgs failed to converge (status=1):\n",
            "STOP: TOTAL NO. of ITERATIONS REACHED LIMIT.\n",
            "\n",
            "Increase the number of iterations (max_iter) or scale the data as shown in:\n",
            "    https://scikit-learn.org/stable/modules/preprocessing.html\n",
            "Please also refer to the documentation for alternative solver options:\n",
            "    https://scikit-learn.org/stable/modules/linear_model.html#logistic-regression\n",
            "  n_iter_i = _check_optimize_result(\n",
            "/usr/local/lib/python3.10/dist-packages/sklearn/linear_model/_logistic.py:458: ConvergenceWarning: lbfgs failed to converge (status=1):\n",
            "STOP: TOTAL NO. of ITERATIONS REACHED LIMIT.\n",
            "\n",
            "Increase the number of iterations (max_iter) or scale the data as shown in:\n",
            "    https://scikit-learn.org/stable/modules/preprocessing.html\n",
            "Please also refer to the documentation for alternative solver options:\n",
            "    https://scikit-learn.org/stable/modules/linear_model.html#logistic-regression\n",
            "  n_iter_i = _check_optimize_result(\n",
            "/usr/local/lib/python3.10/dist-packages/sklearn/linear_model/_logistic.py:458: ConvergenceWarning: lbfgs failed to converge (status=1):\n",
            "STOP: TOTAL NO. of ITERATIONS REACHED LIMIT.\n",
            "\n",
            "Increase the number of iterations (max_iter) or scale the data as shown in:\n",
            "    https://scikit-learn.org/stable/modules/preprocessing.html\n",
            "Please also refer to the documentation for alternative solver options:\n",
            "    https://scikit-learn.org/stable/modules/linear_model.html#logistic-regression\n",
            "  n_iter_i = _check_optimize_result(\n",
            "/usr/local/lib/python3.10/dist-packages/sklearn/linear_model/_logistic.py:458: ConvergenceWarning: lbfgs failed to converge (status=1):\n",
            "STOP: TOTAL NO. of ITERATIONS REACHED LIMIT.\n",
            "\n",
            "Increase the number of iterations (max_iter) or scale the data as shown in:\n",
            "    https://scikit-learn.org/stable/modules/preprocessing.html\n",
            "Please also refer to the documentation for alternative solver options:\n",
            "    https://scikit-learn.org/stable/modules/linear_model.html#logistic-regression\n",
            "  n_iter_i = _check_optimize_result(\n",
            "/usr/local/lib/python3.10/dist-packages/sklearn/linear_model/_logistic.py:458: ConvergenceWarning: lbfgs failed to converge (status=1):\n",
            "STOP: TOTAL NO. of ITERATIONS REACHED LIMIT.\n",
            "\n",
            "Increase the number of iterations (max_iter) or scale the data as shown in:\n",
            "    https://scikit-learn.org/stable/modules/preprocessing.html\n",
            "Please also refer to the documentation for alternative solver options:\n",
            "    https://scikit-learn.org/stable/modules/linear_model.html#logistic-regression\n",
            "  n_iter_i = _check_optimize_result(\n",
            "/usr/local/lib/python3.10/dist-packages/sklearn/linear_model/_logistic.py:458: ConvergenceWarning: lbfgs failed to converge (status=1):\n",
            "STOP: TOTAL NO. of ITERATIONS REACHED LIMIT.\n",
            "\n",
            "Increase the number of iterations (max_iter) or scale the data as shown in:\n",
            "    https://scikit-learn.org/stable/modules/preprocessing.html\n",
            "Please also refer to the documentation for alternative solver options:\n",
            "    https://scikit-learn.org/stable/modules/linear_model.html#logistic-regression\n",
            "  n_iter_i = _check_optimize_result(\n",
            "/usr/local/lib/python3.10/dist-packages/sklearn/linear_model/_logistic.py:458: ConvergenceWarning: lbfgs failed to converge (status=1):\n",
            "STOP: TOTAL NO. of ITERATIONS REACHED LIMIT.\n",
            "\n",
            "Increase the number of iterations (max_iter) or scale the data as shown in:\n",
            "    https://scikit-learn.org/stable/modules/preprocessing.html\n",
            "Please also refer to the documentation for alternative solver options:\n",
            "    https://scikit-learn.org/stable/modules/linear_model.html#logistic-regression\n",
            "  n_iter_i = _check_optimize_result(\n",
            "/usr/local/lib/python3.10/dist-packages/sklearn/linear_model/_logistic.py:458: ConvergenceWarning: lbfgs failed to converge (status=1):\n",
            "STOP: TOTAL NO. of ITERATIONS REACHED LIMIT.\n",
            "\n",
            "Increase the number of iterations (max_iter) or scale the data as shown in:\n",
            "    https://scikit-learn.org/stable/modules/preprocessing.html\n",
            "Please also refer to the documentation for alternative solver options:\n",
            "    https://scikit-learn.org/stable/modules/linear_model.html#logistic-regression\n",
            "  n_iter_i = _check_optimize_result(\n",
            "/usr/local/lib/python3.10/dist-packages/sklearn/linear_model/_logistic.py:458: ConvergenceWarning: lbfgs failed to converge (status=1):\n",
            "STOP: TOTAL NO. of ITERATIONS REACHED LIMIT.\n",
            "\n",
            "Increase the number of iterations (max_iter) or scale the data as shown in:\n",
            "    https://scikit-learn.org/stable/modules/preprocessing.html\n",
            "Please also refer to the documentation for alternative solver options:\n",
            "    https://scikit-learn.org/stable/modules/linear_model.html#logistic-regression\n",
            "  n_iter_i = _check_optimize_result(\n"
          ]
        },
        {
          "output_type": "stream",
          "name": "stdout",
          "text": [
            "Feature 1: visit_age, Rank: 19\n",
            "Feature 2: gender, Rank: 22\n",
            "Feature 3: race, Rank: 4\n",
            "Feature 4: height_cm, Rank: 16\n",
            "Feature 5: weight_kg, Rank: 6\n",
            "Feature 6: sysBP, Rank: 12\n",
            "Feature 7: diasBP, Rank: 17\n",
            "Feature 8: hr, Rank: 15\n",
            "Feature 9: O2_hours_day, Rank: 1\n",
            "Feature 10: bmi, Rank: 5\n",
            "Feature 11: asthma, Rank: 1\n",
            "Feature 12: hay_fever, Rank: 3\n",
            "Feature 13: bronchitis_attack, Rank: 1\n",
            "Feature 14: pneumonia, Rank: 1\n",
            "Feature 15: chronic_bronchitis, Rank: 1\n",
            "Feature 16: emphysema, Rank: 1\n",
            "Feature 17: sleep_apnea, Rank: 2\n",
            "Feature 18: SmokStartAge, Rank: 18\n",
            "Feature 19: CigPerDaySmokAvg, Rank: 13\n",
            "Feature 20: Duration_Smoking, Rank: 11\n",
            "Feature 21: smoking_status, Rank: 9\n",
            "Feature 22: total_lung_capacity, Rank: 8\n",
            "Feature 23: pct_emphysema, Rank: 14\n",
            "Feature 24: functional_residual_capacity, Rank: 10\n",
            "Feature 25: pct_gastrapping, Rank: 7\n",
            "Feature 26: insp_meanatt, Rank: 21\n",
            "Feature 27: exp_meanatt, Rank: 20\n",
            "Feature 28: FEV1_FVC_ratio, Rank: 1\n",
            "Feature 29: FEV1, Rank: 1\n",
            "Feature 30: FVC, Rank: 1\n",
            "Feature 31: FEV1_phase2, Rank: 1\n"
          ]
        }
      ]
    },
    {
      "cell_type": "markdown",
      "source": [
        "**Normalizing the data**"
      ],
      "metadata": {
        "id": "a9HMJyCf3KMW"
      }
    },
    {
      "cell_type": "code",
      "source": [
        "from numpy import set_printoptions\n",
        "from sklearn.preprocessing import Normalizer\n",
        "#Converting the data in to Pandas Dataframe\n",
        "array=data.values\n",
        "X=array[:,0:32]\n",
        "#intializing the Normalizer Function\n",
        "normalizer= Normalizer()\n",
        "#Fitting the Data in to Normalizer function\n",
        "X_normalized = normalizer.fit_transform(X)\n",
        "set_printoptions(precision=1)"
      ],
      "metadata": {
        "id": "XP2VbZXuACBU"
      },
      "execution_count": 46,
      "outputs": []
    },
    {
      "cell_type": "code",
      "source": [
        "data['copd'].value_counts()"
      ],
      "metadata": {
        "id": "Ul2lrt07eOTS",
        "colab": {
          "base_uri": "https://localhost:8080/"
        },
        "outputId": "dd85ed28-f970-4569-8a36-4310e3fa68d2"
      },
      "execution_count": 47,
      "outputs": [
        {
          "output_type": "execute_result",
          "data": {
            "text/plain": [
              "0.0    4159\n",
              "1.0    1581\n",
              "Name: copd, dtype: int64"
            ]
          },
          "metadata": {},
          "execution_count": 47
        }
      ]
    },
    {
      "cell_type": "markdown",
      "source": [
        "**Oversampling of the data using SMOTE(Synthetic Minority Oversampling Technique)**"
      ],
      "metadata": {
        "id": "0pbPo1FL3hR_"
      }
    },
    {
      "cell_type": "code",
      "source": [
        "from imblearn.over_sampling import SMOTE\n",
        "selected_features = data[predictors].loc[:, rfe.support_]\n",
        "target = data['copd'].values.ravel()\n",
        "# Define the SMOTE strategy\n",
        "sm = SMOTE(random_state=42)\n",
        "\n",
        "# Perform SMOTE on the selected features and target\n",
        "X_resampled, y_resampled = sm.fit_resample(selected_features, target)\n",
        "\n",
        "# Print the shape of the resampled data\n",
        "print(\"Resampled data shape:\", X_resampled.shape)"
      ],
      "metadata": {
        "colab": {
          "base_uri": "https://localhost:8080/"
        },
        "id": "xSNbn1XWBGaj",
        "outputId": "a54bca01-5197-4a3d-aaa7-1142ccce9f8a"
      },
      "execution_count": 48,
      "outputs": [
        {
          "output_type": "stream",
          "name": "stdout",
          "text": [
            "Resampled data shape: (8318, 10)\n"
          ]
        }
      ]
    },
    {
      "cell_type": "code",
      "source": [
        "pd.Series(y_resampled).value_counts()"
      ],
      "metadata": {
        "id": "Npp0WtgSeKFV",
        "colab": {
          "base_uri": "https://localhost:8080/"
        },
        "outputId": "677e2a06-2737-4a90-efce-8e801cd157d7"
      },
      "execution_count": 49,
      "outputs": [
        {
          "output_type": "execute_result",
          "data": {
            "text/plain": [
              "0.0    4159\n",
              "1.0    4159\n",
              "dtype: int64"
            ]
          },
          "metadata": {},
          "execution_count": 49
        }
      ]
    },
    {
      "cell_type": "code",
      "source": [
        "selected_features = [predictors[i] for i in range(len(predictors)) if rfe.ranking_[i] <=1]\n",
        "print(selected_features)"
      ],
      "metadata": {
        "colab": {
          "base_uri": "https://localhost:8080/"
        },
        "id": "GKbm1Q1pBUJa",
        "outputId": "139b06bd-10ff-481d-db0b-3826fefa6aac"
      },
      "execution_count": 50,
      "outputs": [
        {
          "output_type": "stream",
          "name": "stdout",
          "text": [
            "['O2_hours_day', 'asthma', 'bronchitis_attack', 'pneumonia', 'chronic_bronchitis', 'emphysema', 'FEV1_FVC_ratio', 'FEV1', 'FVC', 'FEV1_phase2']\n"
          ]
        }
      ]
    },
    {
      "cell_type": "markdown",
      "source": [
        "**Random Forest Model**"
      ],
      "metadata": {
        "id": "sb4aTN-630pA"
      }
    },
    {
      "cell_type": "code",
      "source": [
        "from sklearn.ensemble import RandomForestClassifier\n",
        "from sklearn.metrics import accuracy_score, precision_score, recall_score, f1_score\n",
        "from sklearn.model_selection import train_test_split\n",
        "\n",
        "# Split the data into train and test sets\n",
        "target='copd'\n",
        "X_train, X_test, y_train, y_test = train_test_split(X_resampled,y_resampled, test_size=0.2, random_state=42)\n",
        "\n",
        "# Initialize the random forest model with default parameters\n",
        "rf_model = RandomForestClassifier()\n",
        "\n",
        "# Train the model on the training data\n",
        "rf_model.fit(X_train, y_train)\n",
        "\n",
        "# Predict the target values for the test data\n",
        "y_pred = rf_model.predict(X_test)\n",
        "\n",
        "# Calculate and print the model performance metrics\n",
        "accuracy = accuracy_score(y_test, y_pred)\n",
        "precision = precision_score(y_test, y_pred, average='weighted')\n",
        "recall = recall_score(y_test, y_pred, average='weighted')\n",
        "f1 = f1_score(y_test, y_pred, average='weighted')\n",
        "print('Accuracy:', accuracy)\n",
        "print('Precision:', precision)\n",
        "print('Recall:', recall)\n",
        "print('F1 Score:', f1)\n"
      ],
      "metadata": {
        "colab": {
          "base_uri": "https://localhost:8080/"
        },
        "id": "UotFOIXi601Z",
        "outputId": "67b6f282-f66a-4768-fd96-b2a9816f8c52"
      },
      "execution_count": 51,
      "outputs": [
        {
          "output_type": "stream",
          "name": "stdout",
          "text": [
            "Accuracy: 0.8786057692307693\n",
            "Precision: 0.8795591954681915\n",
            "Recall: 0.8786057692307693\n",
            "F1 Score: 0.8785741992206145\n"
          ]
        }
      ]
    },
    {
      "cell_type": "code",
      "source": [
        "from sklearn.metrics import confusion_matrix\n",
        "\n",
        "# Predict the target values for the test data\n",
        "y_pred = rf_model.predict(X_test)\n",
        "\n",
        "# Create a confusion matrix\n",
        "cm = confusion_matrix(y_test, y_pred)\n",
        "\n",
        "# Print the confusion matrix\n",
        "print(cm)"
      ],
      "metadata": {
        "colab": {
          "base_uri": "https://localhost:8080/"
        },
        "id": "KwxecllcBhBc",
        "outputId": "50bc2475-6192-4688-eb9f-bf2dc86ff7d4"
      },
      "execution_count": 52,
      "outputs": [
        {
          "output_type": "stream",
          "name": "stdout",
          "text": [
            "[[722 121]\n",
            " [ 81 740]]\n"
          ]
        }
      ]
    },
    {
      "cell_type": "code",
      "source": [
        "import matplotlib.pyplot as plt\n",
        "import seaborn as sns\n",
        "\n",
        "# Create a confusion matrix\n",
        "cm = confusion_matrix(y_test, y_pred)\n",
        "\n",
        "# Define class labels\n",
        "class_names = ['Class 0', 'Class 1']\n",
        "\n",
        "# Create a heatmap plot of the confusion matrix\n",
        "sns.heatmap(cm, annot=True, cmap='Blues', xticklabels=class_names, yticklabels=class_names)\n",
        "\n",
        "# Add axis labels and title\n",
        "plt.xlabel('Predicted')\n",
        "plt.ylabel('True')\n",
        "plt.title('Confusion Matrix')\n",
        "\n",
        "# Display the plot\n",
        "plt.show()\n"
      ],
      "metadata": {
        "colab": {
          "base_uri": "https://localhost:8080/",
          "height": 472
        },
        "id": "5GKnodwg6iq4",
        "outputId": "3483d9c2-0404-4ab4-cc06-401939ddf01a"
      },
      "execution_count": 53,
      "outputs": [
        {
          "output_type": "display_data",
          "data": {
            "text/plain": [
              "<Figure size 640x480 with 2 Axes>"
            ],
            "image/png": "[encoded data removed]"
          },
          "metadata": {}
        }
      ]
    },
    {
      "cell_type": "code",
      "source": [
        "new_data_point_selected = np.array([0,1,1,1,0,0,0,1,1,0])\n",
        "prediction = rf_model.predict([new_data_point_selected])\n",
        "\n",
        "# Print the prediction\n",
        "print(prediction)"
      ],
      "metadata": {
        "colab": {
          "base_uri": "https://localhost:8080/"
        },
        "id": "_yJNsPHZBprY",
        "outputId": "19683238-5e60-4286-a39a-f137aa1d9e42"
      },
      "execution_count": 32,
      "outputs": [
        {
          "output_type": "stream",
          "name": "stdout",
          "text": [
            "[1.]\n"
          ]
        },
        {
          "output_type": "stream",
          "name": "stderr",
          "text": [
            "/usr/local/lib/python3.10/dist-packages/sklearn/base.py:439: UserWarning: X does not have valid feature names, but RandomForestClassifier was fitted with feature names\n",
            "  warnings.warn(\n"
          ]
        }
      ]
    },
    {
      "cell_type": "markdown",
      "source": [
        "**Supoort Vector Machine Model by tuning Hyper Parameters**"
      ],
      "metadata": {
        "id": "ef2g-VET4Fue"
      }
    },
    {
      "cell_type": "code",
      "source": [
        "from sklearn.model_selection import train_test_split, GridSearchCV\n",
        "from sklearn.svm import SVC\n",
        "from sklearn.metrics import accuracy_score,precision_score, recall_score, f1_score\n",
        "\n",
        "target = 'copd'\n",
        "\n",
        "# Split the data into training and test sets\n",
        "X_train, X_test, y_train, y_test = train_test_split(X_resampled, y_resampled, test_size=0.2, random_state=42)\n",
        "\n",
        "# Define the parameter grid for grid search\n",
        "param_grid = {\n",
        "    'C': [0.1, 1, 10],\n",
        "    'kernel': ['linear', 'rbf', 'poly'],\n",
        "    'degree': [2, 3, 4],\n",
        "    'gamma': ['scale', 'auto'],\n",
        "    'class_weight': [None, 'balanced']\n",
        "}\n",
        "\n",
        "# Initialize the SVM model\n",
        "model = SVC()\n",
        "\n",
        "# Perform grid search with cross-validation to find the best hyperparameters\n",
        "grid_search = GridSearchCV(estimator=model, param_grid=param_grid, cv=5, n_jobs=-1)\n",
        "grid_search.fit(X_train, y_train)\n",
        "\n",
        "# Print the best hyperparameters and the corresponding accuracy score on the test set\n",
        "print('Best Hyperparameters:', grid_search.best_params_)\n",
        "y_pred = grid_search.predict(X_test)\n",
        "accuracy = accuracy_score(y_test, y_pred)\n",
        "print('Accuracy:', accuracy)\n",
        "precision = precision_score(y_test, y_pred,average='micro')\n",
        "recall = recall_score(y_test, y_pred,average='micro')\n",
        "f1 = f1_score(y_test, y_pred,average='micro')\n",
        "print('Precision:', precision)\n",
        "print('Recall:', recall)\n",
        "print('F1 Score:', f1)\n"
      ],
      "metadata": {
        "colab": {
          "base_uri": "https://localhost:8080/"
        },
        "id": "DpM9dFccBtmS",
        "outputId": "c3bbff8e-3869-42e5-d3cd-08fff1d1a2b5"
      },
      "execution_count": 33,
      "outputs": [
        {
          "output_type": "stream",
          "name": "stdout",
          "text": [
            "Best Hyperparameters: {'C': 10, 'class_weight': 'balanced', 'degree': 4, 'gamma': 'auto', 'kernel': 'poly'}\n",
            "Accuracy: 0.8401442307692307\n",
            "Precision: 0.8401442307692307\n",
            "Recall: 0.8401442307692307\n",
            "F1 Score: 0.8401442307692307\n"
          ]
        }
      ]
    },
    {
      "cell_type": "code",
      "source": [
        "from sklearn.metrics import confusion_matrix\n",
        "\n",
        "# Predict the target values for the test data\n",
        "y_pred = grid_search.predict(X_test)\n",
        "\n",
        "# Create a confusion matrix\n",
        "cm = confusion_matrix(y_test, y_pred)\n",
        "\n",
        "# Print the confusion matrix\n",
        "print(cm)"
      ],
      "metadata": {
        "colab": {
          "base_uri": "https://localhost:8080/"
        },
        "id": "My-UAvbZCC3-",
        "outputId": "f9c61dcb-4680-4eab-fe8a-520b15a5f26b"
      },
      "execution_count": 54,
      "outputs": [
        {
          "output_type": "stream",
          "name": "stdout",
          "text": [
            "[[706 137]\n",
            " [129 692]]\n"
          ]
        }
      ]
    },
    {
      "cell_type": "code",
      "source": [
        "import matplotlib.pyplot as plt\n",
        "import seaborn as sns\n",
        "\n",
        "# Create a confusion matrix\n",
        "cm = confusion_matrix(y_test, y_pred)\n",
        "\n",
        "# Define class labels\n",
        "class_names = ['Class 0', 'Class 1']\n",
        "\n",
        "# Create a heatmap plot of the confusion matrix\n",
        "sns.heatmap(cm, annot=True, cmap='Blues', xticklabels=class_names, yticklabels=class_names)\n",
        "\n",
        "# Add axis labels and title\n",
        "plt.xlabel('Predicted')\n",
        "plt.ylabel('True')\n",
        "plt.title('Confusion Matrix')\n",
        "\n",
        "# Display the plot\n",
        "plt.show()"
      ],
      "metadata": {
        "colab": {
          "base_uri": "https://localhost:8080/",
          "height": 472
        },
        "id": "L00Nuk5mCTkE",
        "outputId": "28a90b4c-bb8b-4f8d-d90d-f20355e82d12"
      },
      "execution_count": 55,
      "outputs": [
        {
          "output_type": "display_data",
          "data": {
            "text/plain": [
              "<Figure size 640x480 with 2 Axes>"
            ],
            "image/png": "[encoded data removed]"
          },
          "metadata": {}
        }
      ]
    },
    {
      "cell_type": "markdown",
      "source": [
        "**Dumping the models in to a file**"
      ],
      "metadata": {
        "id": "hxG0ngYg4PzM"
      }
    },
    {
      "cell_type": "code",
      "source": [
        "import joblib\n",
        "joblib.dump(grid_search.best_estimator_, 'svm_model.joblib')"
      ],
      "metadata": {
        "colab": {
          "base_uri": "https://localhost:8080/"
        },
        "id": "tG9iq5g1b7L8",
        "outputId": "d67a77cf-c677-4f41-a92e-a172cba20fde"
      },
      "execution_count": null,
      "outputs": [
        {
          "output_type": "execute_result",
          "data": {
            "text/plain": [
              "['svm_model.joblib']"
            ]
          },
          "metadata": {},
          "execution_count": 26
        }
      ]
    },
    {
      "cell_type": "code",
      "source": [
        "import joblib\n",
        "joblib.dump(rf_model,'rf_model.joblib')"
      ],
      "metadata": {
        "colab": {
          "base_uri": "https://localhost:8080/"
        },
        "id": "3qJ49Y-UB_Qa",
        "outputId": "f2980eaa-05bc-448c-debb-6b87b8df99ba"
      },
      "execution_count": null,
      "outputs": [
        {
          "output_type": "execute_result",
          "data": {
            "text/plain": [
              "['rf_model.joblib']"
            ]
          },
          "metadata": {},
          "execution_count": 23
        }
      ]
    }
  ]
}